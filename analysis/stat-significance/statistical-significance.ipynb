{
 "cells": [
  {
   "cell_type": "code",
   "execution_count": null,
   "id": "0f69c2c0",
   "metadata": {},
   "outputs": [],
   "source": [
    "# Testing significance of difference in performance when using wiring cost control\n",
    "# For details, please see Sec. V of SI of \"Brain-inspired wiring economics for artificial neural networks\", by Xinjie Zhang et al.\n",
    "# \n",
    "# Jack Murdoch Moore\n",
    "# August 2024"
   ]
  },
  {
   "cell_type": "code",
   "execution_count": 1,
   "id": "86774864",
   "metadata": {},
   "outputs": [],
   "source": [
    "import numpy as np\n",
    "import scipy\n",
    "import time\n",
    "import matplotlib.pyplot as plt\n",
    "import json# Loading and saving data\n",
    "\n",
    "#Saving data\n",
    "def save(save_str, save_dict):\n",
    "    with open(save_str + '.json', 'w', encoding='utf-8') as json_file:\n",
    "        json.dump(save_dict, json_file, ensure_ascii=False)"
   ]
  },
  {
   "cell_type": "code",
   "execution_count": 2,
   "id": "4e395041",
   "metadata": {},
   "outputs": [
    {
     "name": "stdout",
     "output_type": "stream",
     "text": [
      "That took 1717.3164160251617 sec.\n",
      "H0: Performance of L2-wiring-cost and L2 are drawn from the same distribution\n",
      "H1: Performance of L2-wiring-cost higher than L2\n",
      "p = 0.00038\n"
     ]
    }
   ],
   "source": [
    "file_name_left = '.\\\\original data\\\\'\n",
    "model_list = ['GRU', 'RNN']\n",
    "dataset_list = ['HAR', 'HGS', 'MNIST', 'DMTask', 'ManteTask']\n",
    "rewiring_list = ['DeepR', 'DSR', 'SET']\n",
    "# training_list = ['L1', 'L1-wiring-cost']#\n",
    "training_list = ['L2', 'L2-wiring-cost']\n",
    "\n",
    "init_time = time.time()\n",
    "\n",
    "# t-test for observation:\n",
    "z_list_0 = []\n",
    "z_list_1 = []\n",
    "for model in model_list:\n",
    "    for dataset in dataset_list:\n",
    "        if (model == 'GRU'):\n",
    "            if ((dataset == 'DMTask') or (dataset == 'ManteTask')):\n",
    "                continue\n",
    "        for rewiring in rewiring_list:\n",
    "            performance_list_list = []\n",
    "            for training in training_list:\n",
    "                file_name = file_name_left + model + '-' + dataset + '-' + rewiring + '-' + training + '.txt'\n",
    "                performance_list = list(np.loadtxt(file_name))\n",
    "                performance_list_list = performance_list_list + [performance_list]\n",
    "            z_list_list = scipy.stats.zscore(performance_list_list, axis=None, ddof=0)#Z-scores using population standard deviation\n",
    "            z_list_0 = z_list_0 + list(z_list_list[0])\n",
    "            z_list_1 = z_list_1 + list(z_list_list[1])\n",
    "res_obs = scipy.stats.ttest_ind(z_list_1, z_list_0, equal_var=True, alternative='greater')\n",
    "t_obs = res_obs.statistic\n",
    "p_obs = res_obs.pvalue\n",
    "mean_z_0 = np.mean(z_list_0)\n",
    "mean_z_1 = np.mean(z_list_1)\n",
    "\n",
    "# t-test for surrogates (randomly redistribute values):\n",
    "num_surr = 99999\n",
    "t_surr_list = np.zeros(num_surr)\n",
    "p_surr_list = np.zeros(num_surr)\n",
    "for i_surr in range(num_surr):\n",
    "    z_surr_list_0 = []\n",
    "    z_surr_list_1 = []\n",
    "    for model in model_list:\n",
    "        for dataset in dataset_list:\n",
    "            if (model == 'GRU'):\n",
    "                if ((dataset == 'DMTask') or (dataset == 'ManteTask')):\n",
    "                    continue\n",
    "            for rewiring in rewiring_list:\n",
    "                performance_list_list = []\n",
    "                for training in training_list:\n",
    "                    file_name = file_name_left + model + '-' + dataset + '-' + rewiring + '-' + training + '.txt'\n",
    "                    performance_list = list(np.loadtxt(file_name))\n",
    "                    performance_list_list = performance_list_list + [performance_list]\n",
    "                #Randomise assignment to Li or Li-wiring-cost:\n",
    "                performance_surr_list_long = performance_list_list[0] + performance_list_list[1]\n",
    "                np.random.shuffle(performance_surr_list_long)\n",
    "                num_trials = len(performance_list)\n",
    "                performance_surr_list_list = [performance_surr_list_long[:num_trials]] + [performance_surr_list_long[num_trials:]]\n",
    "                z_surr_list_list = scipy.stats.zscore(performance_surr_list_list, axis=None, ddof=0)#Z-scores using population standard deviation\n",
    "                z_surr_list_0 = z_surr_list_0 + list(z_surr_list_list[0])\n",
    "                z_surr_list_1 = z_surr_list_1 + list(z_surr_list_list[1])\n",
    "    res_surr = scipy.stats.ttest_ind(z_surr_list_1, z_surr_list_0, equal_var=True, alternative='greater')\n",
    "    t_surr = res_surr.statistic\n",
    "    p_surr = res_surr.pvalue\n",
    "    t_surr_list[i_surr] = t_surr\n",
    "    p_surr_list[i_surr] = p_surr\n",
    "    \n",
    "mean_t_surr = np.mean(t_surr_list)\n",
    "std_t_surr = np.std(t_surr_list)\n",
    "    \n",
    "p = (sum(t_obs <= t_surr_list) + 1)/(num_surr + 1)\n",
    "\n",
    "final_time = time.time()\n",
    "total_time = final_time - init_time\n",
    "print('That took ' + str(total_time) + ' sec.')\n",
    "\n",
    "print('H0: Performance of ' + training_list[1] + ' and ' + training_list[0] + ' are drawn from the same distribution')\n",
    "print('H1: Performance of ' + training_list[1] + ' higher than ' + training_list[0])\n",
    "print('p = ' + str(p))\n",
    "\n",
    "save_str = 'stat-analysis_' + str(num_surr) + 'surr_' + training_list[0]\n",
    "\n",
    "# Save results\n",
    "\n",
    "save_dict = {'training_list':training_list,\n",
    "             'model_list':model_list,\n",
    "             'dataset_list':dataset_list,\n",
    "             'rewiring_list':rewiring_list,\n",
    "             'z_list_0':z_list_0,\n",
    "             'z_list_1':z_list_1,\n",
    "             'mean_z_0':mean_z_0,\n",
    "             'mean_z_1':mean_z_1,\n",
    "             't_obs':t_obs,\n",
    "             'p_obs':p_obs,\n",
    "             'num_surr':num_surr,\n",
    "             't_surr_list':t_surr_list.tolist(),\n",
    "             'p_surr_list':p_surr_list.tolist(),\n",
    "             'mean_t_surr':mean_t_surr,\n",
    "             'std_t_surr':std_t_surr,\n",
    "             'p':p,\n",
    "             'total_time':total_time,\n",
    "             'save_str':save_str,\n",
    "}\n",
    "\n",
    "save(save_str, save_dict)"
   ]
  },
  {
   "cell_type": "code",
   "execution_count": 13,
   "id": "6a94334d",
   "metadata": {},
   "outputs": [],
   "source": [
    "#Convert results in .json format to .txt format\n",
    "\n",
    "import json# Loading and saving data\n",
    "import numpy as np\n",
    "\n",
    "#Load saved results\n",
    "# save_str = 'stat-analysis_999999surr_L1'\n",
    "save_str = 'stat-analysis_999999surr_L2'\n",
    "with open(save_str + '.json', 'r') as read_file:\n",
    "    save_dict = json.load(read_file)\n",
    "\n",
    "training_list = save_dict['training_list']\n",
    "model_list = save_dict['model_list']\n",
    "dataset_list = save_dict['dataset_list']\n",
    "rewiring_list = save_dict['rewiring_list']\n",
    "z_list_0 = save_dict['z_list_0'],\n",
    "z_list_1 = save_dict['z_list_1'],\n",
    "mean_z_0 = save_dict['mean_z_0']\n",
    "mean_z_1 = save_dict['mean_z_1']\n",
    "t_obs = save_dict['t_obs']\n",
    "p_obs = save_dict['p_obs']\n",
    "num_surr = save_dict['num_surr']\n",
    "t_surr_list = save_dict['t_surr_list']\n",
    "p_surr_list = save_dict['p_surr_list']\n",
    "mean_t_surr = save_dict['mean_t_surr']\n",
    "std_t_surr = save_dict['std_t_surr']\n",
    "p = save_dict['p']\n",
    "total_time = save_dict['total_time']\n",
    "save_str = save_dict['save_str']\n",
    "\n",
    "np.savetxt(save_str + '_' + 'z_list_1' + '.txt', z_list_1)\n",
    "np.savetxt(save_str + '_' + 'z_list_0' + '.txt', z_list_0)\n",
    "np.savetxt(save_str + '_' + 't_obs' + '.txt', [t_obs])\n",
    "np.savetxt(save_str + '_' + 'p_obs' + '.txt', [p_obs])\n",
    "np.savetxt(save_str + '_' + 't_surr_list' + '.txt', t_surr_list)\n",
    "np.savetxt(save_str + '_' + 'p_surr_list' + '.txt', p_surr_list)\n",
    "np.savetxt(save_str + '_' + 'p' + '.txt', [p])"
   ]
  },
  {
   "cell_type": "code",
   "execution_count": 2,
   "id": "77f9de12",
   "metadata": {},
   "outputs": [
    {
     "name": "stdout",
     "output_type": "stream",
     "text": [
      "That took 16682.526892900467 sec.\n",
      "\n",
      "Mean z-score under L1: -0.21536427042015618\n",
      "Mean z-score under L1-wiring-cost: 0.2153642704201564\n"
     ]
    },
    {
     "data": {
      "image/png": "[encoded data removed]",
      "text/plain": [
       "<Figure size 432x288 with 1 Axes>"
      ]
     },
     "metadata": {
      "needs_background": "light"
     },
     "output_type": "display_data"
    },
    {
     "name": "stdout",
     "output_type": "stream",
     "text": [
      "Observed: t = 4.508940687613596; naive p = 4.236701316788509e-06\n",
      "Surrogates: mean t = 0.000654734550407883; (population) stand. dev. = 1.0321261806421853\n",
      "\n",
      "H0: Performance of L1-wiring-cost and L1 are drawn from the same distribution\n",
      "H1: Performance of L1-wiring-cost higher than L1\n",
      "p = 9e-06\n"
     ]
    },
    {
     "data": {
      "image/png": "[encoded data removed]",
      "text/plain": [
       "<Figure size 432x288 with 1 Axes>"
      ]
     },
     "metadata": {
      "needs_background": "light"
     },
     "output_type": "display_data"
    }
   ],
   "source": [
    "#Load saved results\n",
    "save_str = 'stat-analysis_999999surr_L1'\n",
    "with open(save_str + '.json', 'r') as read_file:\n",
    "    save_dict = json.load(read_file)\n",
    "\n",
    "training_list = save_dict['training_list']\n",
    "model_list = save_dict['model_list']\n",
    "dataset_list = save_dict['dataset_list']\n",
    "rewiring_list = save_dict['rewiring_list']\n",
    "z_list_0 = save_dict['z_list_0'],\n",
    "z_list_1 = save_dict['z_list_1'],\n",
    "mean_z_0 = save_dict['mean_z_0']\n",
    "mean_z_1 = save_dict['mean_z_1']\n",
    "t_obs = save_dict['t_obs']\n",
    "p_obs = save_dict['p_obs']\n",
    "num_surr = save_dict['num_surr']\n",
    "t_surr_list = save_dict['t_surr_list']\n",
    "p_surr_list = save_dict['p_surr_list']\n",
    "mean_t_surr = save_dict['mean_t_surr']\n",
    "std_t_surr = save_dict['std_t_surr']\n",
    "p = save_dict['p']\n",
    "total_time = save_dict['total_time']\n",
    "save_str = save_dict['save_str']\n",
    "\n",
    "# Make plots\n",
    "\n",
    "print('That took ' + str(total_time) + ' sec.\\n')\n",
    "print('Mean z-score under ' + training_list[0] + ': ' + str(mean_z_0))\n",
    "print('Mean z-score under ' + training_list[1] + ': ' + str(mean_z_1))\n",
    "\n",
    "fig, ax = plt.subplots(1, 1, sharey=True, tight_layout=True)\n",
    "hist = ax.hist(z_list_0, bins=10, label=training_list[0], alpha=0.5, color='tab:orange')\n",
    "hist = ax.hist(z_list_1, bins=10, label=training_list[1], alpha=0.5, color='tab:blue')\n",
    "y_lim = ax.get_ylim()\n",
    "ax.plot([mean_z_0, mean_z_0], list(y_lim), color='tab:orange')\n",
    "ax.plot([mean_z_1, mean_z_1], list(y_lim), color='tab:blue')\n",
    "ax.set_ylim(y_lim)\n",
    "ax.set_xlabel('z-score')\n",
    "ax.set_ylabel('counts')\n",
    "ax.set_title(training_list[0])\n",
    "ax.legend()\n",
    "plt.savefig('z-score-' + training_list[0] + '.png')\n",
    "plt.show()\n",
    "\n",
    "print('Observed: t = ' + str(t_obs) + '; naive p = ' + str(p_obs))\n",
    "print('Surrogates: mean t = ' + str(mean_t_surr) + '; (population) stand. dev. = ' + str(std_t_surr) + '\\n')\n",
    "\n",
    "print('H0: Performance of ' + training_list[1] + ' and ' + training_list[0] + ' are drawn from the same distribution')\n",
    "print('H1: Performance of ' + training_list[1] + ' higher than ' + training_list[0])\n",
    "print('p = ' + str(p))\n",
    "\n",
    "fig, ax = plt.subplots(1, 1, sharey=True, tight_layout=True)\n",
    "hist = ax.hist(t_surr_list, bins=20, label='surrogates')\n",
    "y_lim = ax.get_ylim()\n",
    "ax.plot([t_obs, t_obs], list(y_lim), label='observed')\n",
    "ax.set_ylim(y_lim)\n",
    "ax.set_xlabel('t-statistic')\n",
    "ax.set_ylabel('counts')\n",
    "ax.set_title(training_list[0])\n",
    "ax.legend()\n",
    "plt.savefig('t-stat-' + training_list[0] + '.png')\n",
    "plt.show()"
   ]
  },
  {
   "cell_type": "code",
   "execution_count": 3,
   "id": "62a5a35a",
   "metadata": {},
   "outputs": [
    {
     "name": "stdout",
     "output_type": "stream",
     "text": [
      "That took 16752.257269382477 sec.\n",
      "\n",
      "Mean z-score under L2: -0.16979812233310743\n",
      "Mean z-score under L2-wiring-cost: 0.16979812233310398\n"
     ]
    },
    {
     "data": {
      "image/png": "[encoded data removed]",
      "text/plain": [
       "<Figure size 432x288 with 1 Axes>"
      ]
     },
     "metadata": {
      "needs_background": "light"
     },
     "output_type": "display_data"
    },
    {
     "name": "stdout",
     "output_type": "stream",
     "text": [
      "Observed: t = 3.522684177225479; naive p = 0.00023715003045502226\n",
      "Surrogates: mean t = 0.00042098059429701145; (population) stand. dev. = 1.0312774679944687\n",
      "\n",
      "H0: Performance of L2-wiring-cost and L2 are drawn from the same distribution\n",
      "H1: Performance of L2-wiring-cost higher than L2\n",
      "p = 0.000327\n"
     ]
    },
    {
     "data": {
      "image/png": "[encoded data removed]",
      "text/plain": [
       "<Figure size 432x288 with 1 Axes>"
      ]
     },
     "metadata": {
      "needs_background": "light"
     },
     "output_type": "display_data"
    }
   ],
   "source": [
    "#Load saved results\n",
    "save_str = 'stat-analysis_999999surr_L2'\n",
    "with open(save_str + '.json', 'r') as read_file:\n",
    "    save_dict = json.load(read_file)\n",
    "\n",
    "training_list = save_dict['training_list']\n",
    "model_list = save_dict['model_list']\n",
    "dataset_list = save_dict['dataset_list']\n",
    "rewiring_list = save_dict['rewiring_list']\n",
    "z_list_0 = save_dict['z_list_0'],\n",
    "z_list_1 = save_dict['z_list_1'],\n",
    "mean_z_0 = save_dict['mean_z_0']\n",
    "mean_z_1 = save_dict['mean_z_1']\n",
    "t_obs = save_dict['t_obs']\n",
    "p_obs = save_dict['p_obs']\n",
    "num_surr = save_dict['num_surr']\n",
    "t_surr_list = save_dict['t_surr_list']\n",
    "p_surr_list = save_dict['p_surr_list']\n",
    "mean_t_surr = save_dict['mean_t_surr']\n",
    "std_t_surr = save_dict['std_t_surr']\n",
    "p = save_dict['p']\n",
    "total_time = save_dict['total_time']\n",
    "save_str = save_dict['save_str']\n",
    "\n",
    "# Make plots\n",
    "\n",
    "print('That took ' + str(total_time) + ' sec.\\n')\n",
    "print('Mean z-score under ' + training_list[0] + ': ' + str(mean_z_0))\n",
    "print('Mean z-score under ' + training_list[1] + ': ' + str(mean_z_1))\n",
    "\n",
    "fig, ax = plt.subplots(1, 1, sharey=True, tight_layout=True)\n",
    "hist = ax.hist(z_list_0, bins=10, label=training_list[0], alpha=0.5, color='tab:orange')\n",
    "hist = ax.hist(z_list_1, bins=10, label=training_list[1], alpha=0.5, color='tab:blue')\n",
    "y_lim = ax.get_ylim()\n",
    "ax.plot([mean_z_0, mean_z_0], list(y_lim), color='tab:orange')\n",
    "ax.plot([mean_z_1, mean_z_1], list(y_lim), color='tab:blue')\n",
    "ax.set_ylim(y_lim)\n",
    "ax.set_xlabel('z-score')\n",
    "ax.set_ylabel('counts')\n",
    "ax.set_title(training_list[0])\n",
    "ax.legend()\n",
    "plt.savefig('z-score-' + training_list[0] + '.png')\n",
    "plt.show()\n",
    "\n",
    "print('Observed: t = ' + str(t_obs) + '; naive p = ' + str(p_obs))\n",
    "print('Surrogates: mean t = ' + str(mean_t_surr) + '; (population) stand. dev. = ' + str(std_t_surr) + '\\n')\n",
    "\n",
    "print('H0: Performance of ' + training_list[1] + ' and ' + training_list[0] + ' are drawn from the same distribution')\n",
    "print('H1: Performance of ' + training_list[1] + ' higher than ' + training_list[0])\n",
    "print('p = ' + str(p))\n",
    "\n",
    "fig, ax = plt.subplots(1, 1, sharey=True, tight_layout=True)\n",
    "hist = ax.hist(t_surr_list, bins=20, label='surrogates')\n",
    "y_lim = ax.get_ylim()\n",
    "ax.plot([t_obs, t_obs], list(y_lim), label='observed')\n",
    "ax.set_ylim(y_lim)\n",
    "ax.set_xlabel('t-statistic')\n",
    "ax.set_ylabel('counts')\n",
    "ax.set_title(training_list[0])\n",
    "ax.legend()\n",
    "plt.savefig('t-stat-' + training_list[0] + '.png')\n",
    "plt.show()"
   ]
  },
  {
   "cell_type": "code",
   "execution_count": null,
   "id": "c5abffd3",
   "metadata": {},
   "outputs": [],
   "source": []
  }
 ],
 "metadata": {
  "kernelspec": {
   "display_name": "Python 3",
   "language": "python",
   "name": "python3"
  },
  "language_info": {
   "codemirror_mode": {
    "name": "ipython",
    "version": 3
   },
   "file_extension": ".py",
   "mimetype": "text/x-python",
   "name": "python",
   "nbconvert_exporter": "python",
   "pygments_lexer": "ipython3",
   "version": "3.7.4"
  }
 },
 "nbformat": 4,
 "nbformat_minor": 5
}
